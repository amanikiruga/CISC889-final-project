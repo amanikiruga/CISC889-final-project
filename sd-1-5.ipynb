{
 "cells": [
  {
   "cell_type": "code",
   "execution_count": null,
   "metadata": {},
   "outputs": [],
   "source": [
    "from diffusers import StableDiffusionPipeline\n",
    "import torch\n",
    "\n",
    "model_id = \"runwayml/stable-diffusion-v1-5\"\n",
    "pipe = StableDiffusionPipeline.from_pretrained(model_id, torch_dtype=torch.float16)\n",
    "pipe = pipe.to(\"cuda\")\n",
    "\n",
    "prompt = \"a photo of an astronaut riding a horse on mars\"\n",
    "image = pipe(prompt).images[0]  "
   ]
  },
  {
   "cell_type": "code",
   "execution_count": 21,
   "metadata": {},
   "outputs": [
    {
     "data": {
      "text/plain": [
       "CrossAttnUpBlock2D(\n",
       "  (attentions): ModuleList(\n",
       "    (0-2): 3 x Transformer2DModel(\n",
       "      (norm): GroupNorm(32, 320, eps=1e-06, affine=True)\n",
       "      (proj_in): Conv2d(320, 320, kernel_size=(1, 1), stride=(1, 1))\n",
       "      (transformer_blocks): ModuleList(\n",
       "        (0): BasicTransformerBlock(\n",
       "          (norm1): LayerNorm((320,), eps=1e-05, elementwise_affine=True)\n",
       "          (attn1): Attention(\n",
       "            (to_q): Linear(in_features=320, out_features=320, bias=False)\n",
       "            (to_k): Linear(in_features=320, out_features=320, bias=False)\n",
       "            (to_v): Linear(in_features=320, out_features=320, bias=False)\n",
       "            (to_out): ModuleList(\n",
       "              (0): Linear(in_features=320, out_features=320, bias=True)\n",
       "              (1): Dropout(p=0.0, inplace=False)\n",
       "            )\n",
       "          )\n",
       "          (norm2): LayerNorm((320,), eps=1e-05, elementwise_affine=True)\n",
       "          (attn2): Attention(\n",
       "            (to_q): Linear(in_features=320, out_features=320, bias=False)\n",
       "            (to_k): Linear(in_features=768, out_features=320, bias=False)\n",
       "            (to_v): Linear(in_features=768, out_features=320, bias=False)\n",
       "            (to_out): ModuleList(\n",
       "              (0): Linear(in_features=320, out_features=320, bias=True)\n",
       "              (1): Dropout(p=0.0, inplace=False)\n",
       "            )\n",
       "          )\n",
       "          (norm3): LayerNorm((320,), eps=1e-05, elementwise_affine=True)\n",
       "          (ff): FeedForward(\n",
       "            (net): ModuleList(\n",
       "              (0): GEGLU(\n",
       "                (proj): Linear(in_features=320, out_features=2560, bias=True)\n",
       "              )\n",
       "              (1): Dropout(p=0.0, inplace=False)\n",
       "              (2): Linear(in_features=1280, out_features=320, bias=True)\n",
       "            )\n",
       "          )\n",
       "        )\n",
       "      )\n",
       "      (proj_out): Conv2d(320, 320, kernel_size=(1, 1), stride=(1, 1))\n",
       "    )\n",
       "  )\n",
       "  (resnets): ModuleList(\n",
       "    (0): ResnetBlock2D(\n",
       "      (norm1): GroupNorm(32, 960, eps=1e-05, affine=True)\n",
       "      (conv1): Conv2d(960, 320, kernel_size=(3, 3), stride=(1, 1), padding=(1, 1))\n",
       "      (time_emb_proj): Linear(in_features=1280, out_features=320, bias=True)\n",
       "      (norm2): GroupNorm(32, 320, eps=1e-05, affine=True)\n",
       "      (dropout): Dropout(p=0.0, inplace=False)\n",
       "      (conv2): Conv2d(320, 320, kernel_size=(3, 3), stride=(1, 1), padding=(1, 1))\n",
       "      (nonlinearity): SiLU()\n",
       "      (conv_shortcut): Conv2d(960, 320, kernel_size=(1, 1), stride=(1, 1))\n",
       "    )\n",
       "    (1-2): 2 x ResnetBlock2D(\n",
       "      (norm1): GroupNorm(32, 640, eps=1e-05, affine=True)\n",
       "      (conv1): Conv2d(640, 320, kernel_size=(3, 3), stride=(1, 1), padding=(1, 1))\n",
       "      (time_emb_proj): Linear(in_features=1280, out_features=320, bias=True)\n",
       "      (norm2): GroupNorm(32, 320, eps=1e-05, affine=True)\n",
       "      (dropout): Dropout(p=0.0, inplace=False)\n",
       "      (conv2): Conv2d(320, 320, kernel_size=(3, 3), stride=(1, 1), padding=(1, 1))\n",
       "      (nonlinearity): SiLU()\n",
       "      (conv_shortcut): Conv2d(640, 320, kernel_size=(1, 1), stride=(1, 1))\n",
       "    )\n",
       "  )\n",
       ")"
      ]
     },
     "execution_count": 21,
     "metadata": {},
     "output_type": "execute_result"
    }
   ],
   "source": [
    "# list all the layers of the unet \n",
    "pipe.unet.up_blocks[3]"
   ]
  },
  {
   "cell_type": "code",
   "execution_count": null,
   "metadata": {},
   "outputs": [],
   "source": []
  }
 ],
 "metadata": {
  "kernelspec": {
   "display_name": "svd3d-work",
   "language": "python",
   "name": "svd3d-work"
  },
  "language_info": {
   "codemirror_mode": {
    "name": "ipython",
    "version": 3
   },
   "file_extension": ".py",
   "mimetype": "text/x-python",
   "name": "python",
   "nbconvert_exporter": "python",
   "pygments_lexer": "ipython3",
   "version": "3.10.4"
  }
 },
 "nbformat": 4,
 "nbformat_minor": 2
}
